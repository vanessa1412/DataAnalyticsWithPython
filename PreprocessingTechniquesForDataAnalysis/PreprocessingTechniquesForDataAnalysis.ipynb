{
 "cells": [
  {
   "cell_type": "code",
   "execution_count": 1,
   "id": "919707a1",
   "metadata": {},
   "outputs": [],
   "source": [
    "#Libraries used\n",
    "import pandas as pd\n",
    "import numpy as np\n",
    "import matplotlib.pyplot as plt\n",
    "import seaborn as sns\n",
    "import missingno as msno\n",
    "from scipy.stats import chi2_contingency\n",
    "from scipy import stats"
   ]
  },
  {
   "cell_type": "code",
   "execution_count": 2,
   "id": "d9348ca3",
   "metadata": {},
   "outputs": [],
   "source": [
    "#Loading the dataset\n",
    "df = pd.read_csv('dataset.csv')"
   ]
  },
  {
   "cell_type": "code",
   "execution_count": 3,
   "id": "b8aecf6f",
   "metadata": {},
   "outputs": [
    {
     "data": {
      "text/html": [
       "<div>\n",
       "<style scoped>\n",
       "    .dataframe tbody tr th:only-of-type {\n",
       "        vertical-align: middle;\n",
       "    }\n",
       "\n",
       "    .dataframe tbody tr th {\n",
       "        vertical-align: top;\n",
       "    }\n",
       "\n",
       "    .dataframe thead th {\n",
       "        text-align: right;\n",
       "    }\n",
       "</style>\n",
       "<table border=\"1\" class=\"dataframe\">\n",
       "  <thead>\n",
       "    <tr style=\"text-align: right;\">\n",
       "      <th></th>\n",
       "      <th>Idade</th>\n",
       "      <th>Salario</th>\n",
       "      <th>Genero</th>\n",
       "      <th>Escolaridade</th>\n",
       "      <th>Score_Exame_Psicotecnico</th>\n",
       "    </tr>\n",
       "  </thead>\n",
       "  <tbody>\n",
       "    <tr>\n",
       "      <th>0</th>\n",
       "      <td>58</td>\n",
       "      <td>30404.959339</td>\n",
       "      <td>Masculino</td>\n",
       "      <td>Médio</td>\n",
       "      <td>56.0</td>\n",
       "    </tr>\n",
       "    <tr>\n",
       "      <th>1</th>\n",
       "      <td>48</td>\n",
       "      <td>20886.502401</td>\n",
       "      <td>Feminino</td>\n",
       "      <td>Médio</td>\n",
       "      <td>NaN</td>\n",
       "    </tr>\n",
       "    <tr>\n",
       "      <th>2</th>\n",
       "      <td>34</td>\n",
       "      <td>15959.388748</td>\n",
       "      <td>Masculino</td>\n",
       "      <td>Médio</td>\n",
       "      <td>57.0</td>\n",
       "    </tr>\n",
       "    <tr>\n",
       "      <th>3</th>\n",
       "      <td>62</td>\n",
       "      <td>28534.995327</td>\n",
       "      <td>Outro</td>\n",
       "      <td>Superior</td>\n",
       "      <td>68.0</td>\n",
       "    </tr>\n",
       "    <tr>\n",
       "      <th>4</th>\n",
       "      <td>27</td>\n",
       "      <td>10553.176215</td>\n",
       "      <td>Outro</td>\n",
       "      <td>Fundamental</td>\n",
       "      <td>44.0</td>\n",
       "    </tr>\n",
       "  </tbody>\n",
       "</table>\n",
       "</div>"
      ],
      "text/plain": [
       "   Idade       Salario     Genero Escolaridade  Score_Exame_Psicotecnico\n",
       "0     58  30404.959339  Masculino        Médio                      56.0\n",
       "1     48  20886.502401   Feminino        Médio                       NaN\n",
       "2     34  15959.388748  Masculino        Médio                      57.0\n",
       "3     62  28534.995327      Outro     Superior                      68.0\n",
       "4     27  10553.176215      Outro  Fundamental                      44.0"
      ]
     },
     "execution_count": 3,
     "metadata": {},
     "output_type": "execute_result"
    }
   ],
   "source": [
    "#Viewing the first few rows of the dataset\n",
    "df.head()"
   ]
  },
  {
   "cell_type": "code",
   "execution_count": 4,
   "id": "a465e54d",
   "metadata": {},
   "outputs": [
    {
     "data": {
      "text/plain": [
       "(500, 5)"
      ]
     },
     "execution_count": 4,
     "metadata": {},
     "output_type": "execute_result"
    }
   ],
   "source": [
    "#Set size\n",
    "df.shape"
   ]
  },
  {
   "cell_type": "code",
   "execution_count": 5,
   "id": "44b0d224",
   "metadata": {},
   "outputs": [
    {
     "name": "stdout",
     "output_type": "stream",
     "text": [
      "<class 'pandas.core.frame.DataFrame'>\n",
      "RangeIndex: 500 entries, 0 to 499\n",
      "Data columns (total 5 columns):\n",
      " #   Column                    Non-Null Count  Dtype  \n",
      "---  ------                    --------------  -----  \n",
      " 0   Idade                     500 non-null    int64  \n",
      " 1   Salario                   450 non-null    float64\n",
      " 2   Genero                    500 non-null    object \n",
      " 3   Escolaridade              500 non-null    object \n",
      " 4   Score_Exame_Psicotecnico  470 non-null    float64\n",
      "dtypes: float64(2), int64(1), object(2)\n",
      "memory usage: 19.7+ KB\n"
     ]
    }
   ],
   "source": [
    "#Summary of the set\n",
    "df.info()"
   ]
  },
  {
   "cell_type": "markdown",
   "id": "365144fa",
   "metadata": {},
   "source": [
    "___"
   ]
  },
  {
   "cell_type": "markdown",
   "id": "07a44d58",
   "metadata": {},
   "source": [
    "## Exploratory analysis\n",
    "\n",
    "This step of the process helps you understand how the data is organized and any potential problems."
   ]
  },
  {
   "cell_type": "code",
   "execution_count": 6,
   "id": "2089f920",
   "metadata": {},
   "outputs": [
    {
     "data": {
      "text/html": [
       "<div>\n",
       "<style scoped>\n",
       "    .dataframe tbody tr th:only-of-type {\n",
       "        vertical-align: middle;\n",
       "    }\n",
       "\n",
       "    .dataframe tbody tr th {\n",
       "        vertical-align: top;\n",
       "    }\n",
       "\n",
       "    .dataframe thead th {\n",
       "        text-align: right;\n",
       "    }\n",
       "</style>\n",
       "<table border=\"1\" class=\"dataframe\">\n",
       "  <thead>\n",
       "    <tr style=\"text-align: right;\">\n",
       "      <th></th>\n",
       "      <th>Genero</th>\n",
       "      <th>Escolaridade</th>\n",
       "    </tr>\n",
       "  </thead>\n",
       "  <tbody>\n",
       "    <tr>\n",
       "      <th>count</th>\n",
       "      <td>500</td>\n",
       "      <td>500</td>\n",
       "    </tr>\n",
       "    <tr>\n",
       "      <th>unique</th>\n",
       "      <td>3</td>\n",
       "      <td>3</td>\n",
       "    </tr>\n",
       "    <tr>\n",
       "      <th>top</th>\n",
       "      <td>Feminino</td>\n",
       "      <td>Médio</td>\n",
       "    </tr>\n",
       "    <tr>\n",
       "      <th>freq</th>\n",
       "      <td>169</td>\n",
       "      <td>274</td>\n",
       "    </tr>\n",
       "  </tbody>\n",
       "</table>\n",
       "</div>"
      ],
      "text/plain": [
       "          Genero Escolaridade\n",
       "count        500          500\n",
       "unique         3            3\n",
       "top     Feminino        Médio\n",
       "freq         169          274"
      ]
     },
     "execution_count": 6,
     "metadata": {},
     "output_type": "execute_result"
    }
   ],
   "source": [
    "#Describing categorical data\n",
    "df.describe(include=object)"
   ]
  },
  {
   "cell_type": "code",
   "execution_count": 7,
   "id": "f2f76424",
   "metadata": {},
   "outputs": [
    {
     "data": {
      "text/html": [
       "<div>\n",
       "<style scoped>\n",
       "    .dataframe tbody tr th:only-of-type {\n",
       "        vertical-align: middle;\n",
       "    }\n",
       "\n",
       "    .dataframe tbody tr th {\n",
       "        vertical-align: top;\n",
       "    }\n",
       "\n",
       "    .dataframe thead th {\n",
       "        text-align: right;\n",
       "    }\n",
       "</style>\n",
       "<table border=\"1\" class=\"dataframe\">\n",
       "  <thead>\n",
       "    <tr style=\"text-align: right;\">\n",
       "      <th></th>\n",
       "      <th>Idade</th>\n",
       "      <th>Salario</th>\n",
       "      <th>Score_Exame_Psicotecnico</th>\n",
       "    </tr>\n",
       "  </thead>\n",
       "  <tbody>\n",
       "    <tr>\n",
       "      <th>count</th>\n",
       "      <td>500.000000</td>\n",
       "      <td>450.000000</td>\n",
       "      <td>470.000000</td>\n",
       "    </tr>\n",
       "    <tr>\n",
       "      <th>mean</th>\n",
       "      <td>42.848000</td>\n",
       "      <td>21252.781137</td>\n",
       "      <td>61.565957</td>\n",
       "    </tr>\n",
       "    <tr>\n",
       "      <th>std</th>\n",
       "      <td>13.189725</td>\n",
       "      <td>8322.933018</td>\n",
       "      <td>17.662523</td>\n",
       "    </tr>\n",
       "    <tr>\n",
       "      <th>min</th>\n",
       "      <td>20.000000</td>\n",
       "      <td>-3254.849042</td>\n",
       "      <td>20.000000</td>\n",
       "    </tr>\n",
       "    <tr>\n",
       "      <th>25%</th>\n",
       "      <td>31.750000</td>\n",
       "      <td>15139.019963</td>\n",
       "      <td>48.000000</td>\n",
       "    </tr>\n",
       "    <tr>\n",
       "      <th>50%</th>\n",
       "      <td>44.000000</td>\n",
       "      <td>21681.102602</td>\n",
       "      <td>61.000000</td>\n",
       "    </tr>\n",
       "    <tr>\n",
       "      <th>75%</th>\n",
       "      <td>54.000000</td>\n",
       "      <td>27379.540314</td>\n",
       "      <td>74.000000</td>\n",
       "    </tr>\n",
       "    <tr>\n",
       "      <th>max</th>\n",
       "      <td>65.000000</td>\n",
       "      <td>40845.107626</td>\n",
       "      <td>100.000000</td>\n",
       "    </tr>\n",
       "  </tbody>\n",
       "</table>\n",
       "</div>"
      ],
      "text/plain": [
       "            Idade       Salario  Score_Exame_Psicotecnico\n",
       "count  500.000000    450.000000                470.000000\n",
       "mean    42.848000  21252.781137                 61.565957\n",
       "std     13.189725   8322.933018                 17.662523\n",
       "min     20.000000  -3254.849042                 20.000000\n",
       "25%     31.750000  15139.019963                 48.000000\n",
       "50%     44.000000  21681.102602                 61.000000\n",
       "75%     54.000000  27379.540314                 74.000000\n",
       "max     65.000000  40845.107626                100.000000"
      ]
     },
     "execution_count": 7,
     "metadata": {},
     "output_type": "execute_result"
    }
   ],
   "source": [
    "#Describing numerical data\n",
    "df.describe()"
   ]
  },
  {
   "cell_type": "markdown",
   "id": "6e0f5322",
   "metadata": {},
   "source": [
    "### Visualizing the distribution of quantitative variables:"
   ]
  },
  {
   "cell_type": "code",
   "execution_count": 8,
   "id": "91d197d5",
   "metadata": {},
   "outputs": [],
   "source": [
    "columns_select = list(df.select_dtypes(exclude=['object']))"
   ]
  },
  {
   "cell_type": "code",
   "execution_count": 9,
   "id": "7bf96276",
   "metadata": {},
   "outputs": [
    {
     "data": {
      "text/plain": [
       "['Idade', 'Salario', 'Score_Exame_Psicotecnico']"
      ]
     },
     "execution_count": 9,
     "metadata": {},
     "output_type": "execute_result"
    }
   ],
   "source": [
    "columns_select"
   ]
  },
  {
   "cell_type": "code",
   "execution_count": 10,
   "id": "d314e1c7",
   "metadata": {},
   "outputs": [
    {
     "data": {
      "image/png": "[encoded data removed]",
      "text/plain": [
       "<Figure size 800x600 with 1 Axes>"
      ]
     },
     "metadata": {},
     "output_type": "display_data"
    }
   ],
   "source": [
    "#Age distribution\n",
    "plt.figure(figsize = (8, 6))\n",
    "sns.histplot(df['Idade'], kde=True)\n",
    "plt.title('Distribuição das Idades')\n",
    "plt.xlabel('Idade')\n",
    "plt.ylabel('Contagem')\n",
    "plt.show()"
   ]
  },
  {
   "cell_type": "code",
   "execution_count": 11,
   "id": "4d0857ea",
   "metadata": {},
   "outputs": [
    {
     "data": {
      "image/png": "[encoded data removed]",
      "text/plain": [
       "<Figure size 800x600 with 1 Axes>"
      ]
     },
     "metadata": {},
     "output_type": "display_data"
    }
   ],
   "source": [
    "#Salary distribution\n",
    "plt.figure(figsize = (8, 6))\n",
    "sns.histplot(df['Salario'], kde=True)\n",
    "plt.title('Distribuição de Salario')\n",
    "plt.xlabel('Salario')\n",
    "plt.ylabel('Contagem')\n",
    "plt.show()"
   ]
  },
  {
   "cell_type": "code",
   "execution_count": 12,
   "id": "ab5e458b",
   "metadata": {},
   "outputs": [
    {
     "data": {
      "image/png": "[encoded data removed]",
      "text/plain": [
       "<Figure size 800x600 with 1 Axes>"
      ]
     },
     "metadata": {},
     "output_type": "display_data"
    }
   ],
   "source": [
    "#Score distribution\n",
    "plt.figure(figsize = (8, 6))\n",
    "sns.histplot(df['Score_Exame_Psicotecnico'], kde=True)\n",
    "plt.title('Distribuição de Score')\n",
    "plt.xlabel('Score')\n",
    "plt.ylabel('Contagem')\n",
    "plt.show()"
   ]
  },
  {
   "cell_type": "markdown",
   "id": "a23f86db",
   "metadata": {},
   "source": [
    "### Visualizing the distribution of categorical variables:"
   ]
  },
  {
   "cell_type": "code",
   "execution_count": 13,
   "id": "fde5c9c2",
   "metadata": {},
   "outputs": [
    {
     "data": {
      "image/png": "[encoded data removed]",
      "text/plain": [
       "<Figure size 800x600 with 1 Axes>"
      ]
     },
     "metadata": {},
     "output_type": "display_data"
    }
   ],
   "source": [
    "#Gender Distribution\n",
    "plt.figure(figsize = (8, 6))\n",
    "sns.countplot(data=df, x='Genero')\n",
    "plt.title('Distribuição de Gênero')\n",
    "plt.xlabel('Gênero')\n",
    "plt.ylabel('Contagem')\n",
    "plt.show()"
   ]
  },
  {
   "cell_type": "code",
   "execution_count": 14,
   "id": "bfc50602",
   "metadata": {},
   "outputs": [
    {
     "data": {
      "image/png": "[encoded data removed]",
      "text/plain": [
       "<Figure size 800x600 with 1 Axes>"
      ]
     },
     "metadata": {},
     "output_type": "display_data"
    }
   ],
   "source": [
    "# Distribution of Education\n",
    "plt.figure(figsize = (8, 6))\n",
    "sns.countplot(data=df, x='Escolaridade', order=['Fundamental', 'Médio', 'Superior'])\n",
    "plt.title('Distribuição de Escolaridade')\n",
    "plt.xlabel('Escolaridade')\n",
    "plt.ylabel('Contagem')\n",
    "plt.show()"
   ]
  },
  {
   "cell_type": "markdown",
   "id": "9b2befab",
   "metadata": {},
   "source": [
    "___"
   ]
  },
  {
   "cell_type": "markdown",
   "id": "078809a4",
   "metadata": {},
   "source": [
    "### Correlation Between Quantitative Variables\n",
    "\n",
    "The correlation between quantitative variables allows us to understand how one variable moves in relation to another. The most common method for calculating correlation between variables is using the Pearson correlation coefficient, which ranges from -1 to 1.\n",
    "\n",
    "> **Note: The data must have a normal distribution.**\n",
    "\n",
    "- The closer to 1, the stronger the positive correlation.\n",
    "- The closer to -1, the stronger the negative correlation.\n",
    "- Close to 0 indicates little or no correlation.\n"
   ]
  },
  {
   "cell_type": "code",
   "execution_count": 15,
   "id": "4431ed0d",
   "metadata": {},
   "outputs": [
    {
     "data": {
      "image/png": "[encoded data removed]",
      "text/plain": [
       "<Figure size 800x800 with 2 Axes>"
      ]
     },
     "metadata": {},
     "output_type": "display_data"
    }
   ],
   "source": [
    "# Calculating the correlation matrix for only quantitative variables\n",
    "correlation_matrix = df[['Idade', 'Salario', 'Score_Exame_Psicotecnico']].corr()\n",
    "\n",
    "# Visualizing the correlation matrix with a heatmap\n",
    "plt.figure(figsize=(8,8))\n",
    "sns.heatmap(correlation_matrix, annot = True, cmap = 'coolwarm', vmin = -1, vmax = 1)\n",
    "plt.title('Correlação entre variáveis quantitativas')\n",
    "plt.show()"
   ]
  },
  {
   "cell_type": "markdown",
   "id": "75047b99",
   "metadata": {},
   "source": [
    "___"
   ]
  },
  {
   "cell_type": "markdown",
   "id": "6337a585",
   "metadata": {},
   "source": [
    "### Association Between Qualitative Variables\n",
    "\n",
    "For categorical variables, association (rather than correlation) is used to analyze the relationship between variables."
   ]
  },
  {
   "cell_type": "markdown",
   "id": "f9f827e8",
   "metadata": {},
   "source": [
    "**Contingency Table**: It is essentially a crosstab that shows the frequency (or count) of observations in each category for two variables."
   ]
  },
  {
   "cell_type": "code",
   "execution_count": 16,
   "id": "88dd2ca0",
   "metadata": {},
   "outputs": [],
   "source": [
    "#Contingency table\n",
    "contingency_table = pd.crosstab(df['Genero'], df['Escolaridade'])"
   ]
  },
  {
   "cell_type": "code",
   "execution_count": 17,
   "id": "e78dce05",
   "metadata": {},
   "outputs": [
    {
     "data": {
      "text/html": [
       "<div>\n",
       "<style scoped>\n",
       "    .dataframe tbody tr th:only-of-type {\n",
       "        vertical-align: middle;\n",
       "    }\n",
       "\n",
       "    .dataframe tbody tr th {\n",
       "        vertical-align: top;\n",
       "    }\n",
       "\n",
       "    .dataframe thead th {\n",
       "        text-align: right;\n",
       "    }\n",
       "</style>\n",
       "<table border=\"1\" class=\"dataframe\">\n",
       "  <thead>\n",
       "    <tr style=\"text-align: right;\">\n",
       "      <th>Escolaridade</th>\n",
       "      <th>Fundamental</th>\n",
       "      <th>Médio</th>\n",
       "      <th>Superior</th>\n",
       "    </tr>\n",
       "    <tr>\n",
       "      <th>Genero</th>\n",
       "      <th></th>\n",
       "      <th></th>\n",
       "      <th></th>\n",
       "    </tr>\n",
       "  </thead>\n",
       "  <tbody>\n",
       "    <tr>\n",
       "      <th>Feminino</th>\n",
       "      <td>31</td>\n",
       "      <td>90</td>\n",
       "      <td>48</td>\n",
       "    </tr>\n",
       "    <tr>\n",
       "      <th>Masculino</th>\n",
       "      <td>32</td>\n",
       "      <td>95</td>\n",
       "      <td>39</td>\n",
       "    </tr>\n",
       "    <tr>\n",
       "      <th>Outro</th>\n",
       "      <td>35</td>\n",
       "      <td>89</td>\n",
       "      <td>41</td>\n",
       "    </tr>\n",
       "  </tbody>\n",
       "</table>\n",
       "</div>"
      ],
      "text/plain": [
       "Escolaridade  Fundamental  Médio  Superior\n",
       "Genero                                    \n",
       "Feminino               31     90        48\n",
       "Masculino              32     95        39\n",
       "Outro                  35     89        41"
      ]
     },
     "execution_count": 17,
     "metadata": {},
     "output_type": "execute_result"
    }
   ],
   "source": [
    "contingency_table"
   ]
  },
  {
   "cell_type": "markdown",
   "id": "b565faac",
   "metadata": {},
   "source": [
    "**Chi-Square Test (χ²)**: It is used to test the independence between two categorical variables.\n",
    "\n",
    "The Chi-Square Test (chi-square) is a statistical technique used to determine if there is a significant association between two categorical variables in a dataset. There are several hypotheses associated with the chi-square test:\n",
    "\n",
    "- **Null Hypothesis (H0):** The null hypothesis states that there is no significant association between the two categorical variables in the dataset. In other words, the two variables are independent of each other.\n",
    "\n",
    "- **Alternative Hypothesis (H1 or Ha):** The alternative hypothesis is the negation of the null hypothesis. It suggests that there is a significant association between the two categorical variables in the dataset. Simply put, the two variables are not independent.\n",
    "\n",
    "The test is applied and the p-value is analyzed. If the p-value is less than a significance level (usually 0.05), the null hypothesis that the variables are independent can be rejected."
   ]
  },
  {
   "cell_type": "code",
   "execution_count": 18,
   "id": "b05f4c72",
   "metadata": {},
   "outputs": [],
   "source": [
    "# Applying the chi2_contingency function\n",
    "chi2, p, _, _ = chi2_contingency(contingency_table)"
   ]
  },
  {
   "cell_type": "code",
   "execution_count": 19,
   "id": "20d6036a",
   "metadata": {},
   "outputs": [
    {
     "name": "stdout",
     "output_type": "stream",
     "text": [
      "Chi-square test p-value: 0.8300\n"
     ]
    }
   ],
   "source": [
    "print(f'Chi-square test p-value: {p:.4f}')"
   ]
  },
  {
   "cell_type": "markdown",
   "id": "7d1e9ae5",
   "metadata": {},
   "source": [
    "> In this case we fail to reject H0. The two variables are probably independent of each other."
   ]
  },
  {
   "cell_type": "markdown",
   "id": "f55f4624",
   "metadata": {},
   "source": [
    "**Cramér's Contingency Coefficient (V)**: Measures the strength of the association between two nominal variables. Its value ranges from 0 (no association) to 1 (perfect association). It is based on the chi-square value."
   ]
  },
  {
   "cell_type": "code",
   "execution_count": 20,
   "id": "9a08c868",
   "metadata": {},
   "outputs": [
    {
     "name": "stdout",
     "output_type": "stream",
     "text": [
      "Cramér coefficient V: 0.0385\n"
     ]
    }
   ],
   "source": [
    "#Calculating Cramer's Contingency Coefficient\n",
    "n = contingency_table.sum().sum()\n",
    "phi2 = chi2/n\n",
    "r, k = contingency_table.shape\n",
    "cramer_v = np.sqrt(phi2 / min(r-1, k-1))\n",
    "print(f'Cramér coefficient V: {cramer_v:.4f}')"
   ]
  },
  {
   "cell_type": "markdown",
   "id": "79445b73",
   "metadata": {},
   "source": [
    "> There is probably no association between the variables."
   ]
  },
  {
   "cell_type": "markdown",
   "id": "a668d9c4",
   "metadata": {},
   "source": [
    "___"
   ]
  },
  {
   "cell_type": "markdown",
   "id": "d27c7632",
   "metadata": {},
   "source": [
    "## Data Preprocessing Techniques"
   ]
  },
  {
   "cell_type": "markdown",
   "id": "ed8fcc29",
   "metadata": {},
   "source": [
    "So far, I have analyzed and explored the data. I have used the results of this work to decide what type of processing I should perform. I will start by treating missing values, duplicates, and negative values."
   ]
  },
  {
   "cell_type": "markdown",
   "id": "31a61e24",
   "metadata": {},
   "source": [
    "### Duplicate values"
   ]
  },
  {
   "cell_type": "code",
   "execution_count": 21,
   "id": "2e342b7e",
   "metadata": {},
   "outputs": [],
   "source": [
    "# I used the duplicated() method to create a series of boolean values indicating duplicates\n",
    "dupli = df.duplicated()"
   ]
  },
  {
   "cell_type": "code",
   "execution_count": 22,
   "id": "5c9d498d",
   "metadata": {},
   "outputs": [
    {
     "data": {
      "text/html": [
       "<div>\n",
       "<style scoped>\n",
       "    .dataframe tbody tr th:only-of-type {\n",
       "        vertical-align: middle;\n",
       "    }\n",
       "\n",
       "    .dataframe tbody tr th {\n",
       "        vertical-align: top;\n",
       "    }\n",
       "\n",
       "    .dataframe thead th {\n",
       "        text-align: right;\n",
       "    }\n",
       "</style>\n",
       "<table border=\"1\" class=\"dataframe\">\n",
       "  <thead>\n",
       "    <tr style=\"text-align: right;\">\n",
       "      <th></th>\n",
       "      <th>Idade</th>\n",
       "      <th>Salario</th>\n",
       "      <th>Genero</th>\n",
       "      <th>Escolaridade</th>\n",
       "      <th>Score_Exame_Psicotecnico</th>\n",
       "    </tr>\n",
       "  </thead>\n",
       "  <tbody>\n",
       "  </tbody>\n",
       "</table>\n",
       "</div>"
      ],
      "text/plain": [
       "Empty DataFrame\n",
       "Columns: [Idade, Salario, Genero, Escolaridade, Score_Exame_Psicotecnico]\n",
       "Index: []"
      ]
     },
     "execution_count": 22,
     "metadata": {},
     "output_type": "execute_result"
    }
   ],
   "source": [
    "# Exibe as linhas que estão duplicadas\n",
    "df[dupli]"
   ]
  },
  {
   "cell_type": "markdown",
   "id": "b3733b48",
   "metadata": {},
   "source": [
    "> There are no duplicate lines."
   ]
  },
  {
   "cell_type": "markdown",
   "id": "ef825ef3",
   "metadata": {},
   "source": [
    "### Negative values"
   ]
  },
  {
   "cell_type": "code",
   "execution_count": 23,
   "id": "02d8a9bf",
   "metadata": {},
   "outputs": [
    {
     "data": {
      "text/html": [
       "<div>\n",
       "<style scoped>\n",
       "    .dataframe tbody tr th:only-of-type {\n",
       "        vertical-align: middle;\n",
       "    }\n",
       "\n",
       "    .dataframe tbody tr th {\n",
       "        vertical-align: top;\n",
       "    }\n",
       "\n",
       "    .dataframe thead th {\n",
       "        text-align: right;\n",
       "    }\n",
       "</style>\n",
       "<table border=\"1\" class=\"dataframe\">\n",
       "  <thead>\n",
       "    <tr style=\"text-align: right;\">\n",
       "      <th></th>\n",
       "      <th>Idade</th>\n",
       "      <th>Salario</th>\n",
       "      <th>Genero</th>\n",
       "      <th>Escolaridade</th>\n",
       "      <th>Score_Exame_Psicotecnico</th>\n",
       "    </tr>\n",
       "  </thead>\n",
       "  <tbody>\n",
       "    <tr>\n",
       "      <th>94</th>\n",
       "      <td>20</td>\n",
       "      <td>-619.478622</td>\n",
       "      <td>Masculino</td>\n",
       "      <td>Médio</td>\n",
       "      <td>58.0</td>\n",
       "    </tr>\n",
       "    <tr>\n",
       "      <th>358</th>\n",
       "      <td>21</td>\n",
       "      <td>-2984.433215</td>\n",
       "      <td>Masculino</td>\n",
       "      <td>Médio</td>\n",
       "      <td>43.0</td>\n",
       "    </tr>\n",
       "    <tr>\n",
       "      <th>380</th>\n",
       "      <td>20</td>\n",
       "      <td>-3254.849042</td>\n",
       "      <td>Outro</td>\n",
       "      <td>Médio</td>\n",
       "      <td>50.0</td>\n",
       "    </tr>\n",
       "  </tbody>\n",
       "</table>\n",
       "</div>"
      ],
      "text/plain": [
       "     Idade      Salario     Genero Escolaridade  Score_Exame_Psicotecnico\n",
       "94      20  -619.478622  Masculino        Médio                      58.0\n",
       "358     21 -2984.433215  Masculino        Médio                      43.0\n",
       "380     20 -3254.849042      Outro        Médio                      50.0"
      ]
     },
     "execution_count": 23,
     "metadata": {},
     "output_type": "execute_result"
    }
   ],
   "source": [
    "# Checking negative values in the Salary column\n",
    "df[df['Salario'] < 0]"
   ]
  },
  {
   "cell_type": "markdown",
   "id": "d88e5bf9",
   "metadata": {},
   "source": [
    "> Negative values in the Salary variable will be converted to missing values and then I will handle missing values."
   ]
  },
  {
   "cell_type": "code",
   "execution_count": 24,
   "id": "23dd5486",
   "metadata": {},
   "outputs": [],
   "source": [
    "# Replacing negative values with NaN (missing values)\n",
    "df['Salario'] = df['Salario'].apply(lambda x: x if x >= 0 else None)"
   ]
  },
  {
   "cell_type": "code",
   "execution_count": 25,
   "id": "c4e3fcaf",
   "metadata": {},
   "outputs": [
    {
     "data": {
      "text/html": [
       "<div>\n",
       "<style scoped>\n",
       "    .dataframe tbody tr th:only-of-type {\n",
       "        vertical-align: middle;\n",
       "    }\n",
       "\n",
       "    .dataframe tbody tr th {\n",
       "        vertical-align: top;\n",
       "    }\n",
       "\n",
       "    .dataframe thead th {\n",
       "        text-align: right;\n",
       "    }\n",
       "</style>\n",
       "<table border=\"1\" class=\"dataframe\">\n",
       "  <thead>\n",
       "    <tr style=\"text-align: right;\">\n",
       "      <th></th>\n",
       "      <th>Idade</th>\n",
       "      <th>Salario</th>\n",
       "      <th>Genero</th>\n",
       "      <th>Escolaridade</th>\n",
       "      <th>Score_Exame_Psicotecnico</th>\n",
       "    </tr>\n",
       "  </thead>\n",
       "  <tbody>\n",
       "  </tbody>\n",
       "</table>\n",
       "</div>"
      ],
      "text/plain": [
       "Empty DataFrame\n",
       "Columns: [Idade, Salario, Genero, Escolaridade, Score_Exame_Psicotecnico]\n",
       "Index: []"
      ]
     },
     "execution_count": 25,
     "metadata": {},
     "output_type": "execute_result"
    }
   ],
   "source": [
    "# Checking negative values in the Salary column\n",
    "df[df['Salario'] < 0]"
   ]
  },
  {
   "cell_type": "markdown",
   "id": "bb722bff",
   "metadata": {},
   "source": [
    "> Set without missing values."
   ]
  },
  {
   "cell_type": "markdown",
   "id": "53193984",
   "metadata": {},
   "source": [
    "### Missing values"
   ]
  },
  {
   "cell_type": "code",
   "execution_count": 26,
   "id": "acd54c40",
   "metadata": {},
   "outputs": [
    {
     "data": {
      "image/png": "[encoded data removed]",
      "text/plain": [
       "<Figure size 1000x600 with 1 Axes>"
      ]
     },
     "metadata": {},
     "output_type": "display_data"
    }
   ],
   "source": [
    "# Missing values map\n",
    "msno.matrix(df, figsize = (10, 6), sparkline = False)\n",
    "plt.show()"
   ]
  },
  {
   "cell_type": "markdown",
   "id": "fe97cd22",
   "metadata": {},
   "source": [
    "In this graph, the presence of data is represented by dark bars and missing values are represented by blank spaces. The right side of the graph provides a bar chart indicating the total amount of values present for each variable."
   ]
  },
  {
   "cell_type": "code",
   "execution_count": 27,
   "id": "a5d4e85a",
   "metadata": {},
   "outputs": [
    {
     "data": {
      "text/plain": [
       "Idade                        0\n",
       "Salario                     53\n",
       "Genero                       0\n",
       "Escolaridade                 0\n",
       "Score_Exame_Psicotecnico    30\n",
       "dtype: int64"
      ]
     },
     "execution_count": 27,
     "metadata": {},
     "output_type": "execute_result"
    }
   ],
   "source": [
    "# Using isna() method to check for missing values in each column\n",
    "df.isna().sum()"
   ]
  },
  {
   "cell_type": "code",
   "execution_count": 28,
   "id": "d84c5f43",
   "metadata": {},
   "outputs": [
    {
     "data": {
      "text/plain": [
       "Idade                        0.0\n",
       "Salario                     10.6\n",
       "Genero                       0.0\n",
       "Escolaridade                 0.0\n",
       "Score_Exame_Psicotecnico     6.0\n",
       "dtype: float64"
      ]
     },
     "execution_count": 28,
     "metadata": {},
     "output_type": "execute_result"
    }
   ],
   "source": [
    "# Calculate the percentage of missing values in each column\n",
    "(df.isna().mean() * 100).round(2)"
   ]
  },
  {
   "cell_type": "markdown",
   "id": "03d7161b",
   "metadata": {},
   "source": [
    "### Missing Value Handling Strategies\n",
    "\n",
    "When you have a variable with missing values, such as in this case where the variable \"salary\" has 10% missing values, there are several strategies you can consider to deal with these missing values. The choice of strategy depends on the context of your data and the purpose of your analysis. Some common strategies include:\n",
    "\n",
    "**Removing rows**: You can choose to remove the rows that contain missing values in the \"salary\" column. This is appropriate if the amount of missing data is small relative to the total size of the data set and if removing them will not introduce bias into your results. However, this strategy can lead to loss of information.\n",
    "\n",
    "**Filling with a default value**: Depending on the context, you can choose to fill in the missing values with a default value, such as the mean, median, or a specific value. This may be appropriate if you believe that the missing values are not critical and that a default value will not significantly affect the analysis.\n",
    "\n",
    "**Filling from other variables**: Sometimes you can use information from other variables in the dataset to fill in missing values for “salary.” For example, you could fill in the average salary of people with the same education level or gender.\n",
    "\n",
    "**Predictive model**: If the “salary” variable is important and the missing values cannot be easily filled in with averages or standard values, you can create a predictive model to estimate the missing values based on other relevant variables. This is more complex, but can be a powerful approach if you have enough data and the “salary” variable is critical to your analysis."
   ]
  },
  {
   "cell_type": "markdown",
   "id": "04d3f49c",
   "metadata": {},
   "source": [
    "### Normality Test to Decide on the Missing Value Treatment Strategy\n",
    "\n",
    "To fill in missing values with the mean, we must check whether the variable follows a normal distribution. If the variable follows a normal distribution, the mean or the median can be used. Otherwise, the median should be used."
   ]
  },
  {
   "cell_type": "code",
   "execution_count": 29,
   "id": "a61e5e28",
   "metadata": {},
   "outputs": [
    {
     "name": "stdout",
     "output_type": "stream",
     "text": [
      "Test statistic: nan\n",
      "p-value: 1.0\n",
      "There is no evidence to reject the null hypothesis (the data appear to follow a normal distribution).\n"
     ]
    }
   ],
   "source": [
    "#Extracting salary column in a series\n",
    "salario = df['Salario']\n",
    "\n",
    "#Shapiro-wilk test\n",
    "stat, p_value = stats.shapiro(salario)\n",
    "\n",
    "#Printing the test result\n",
    "print(f'Test statistic: {stat}')\n",
    "print(f'p-value: {p_value}')\n",
    "\n",
    "#Checking the null hypothesis with p-value\n",
    "alfa = 0.05 #Significance level\n",
    "if p_value > alfa:\n",
    "    print('There is no evidence to reject the null hypothesis (the data appear to follow a normal distribution).')\n",
    "else:\n",
    "    print('The null hypothesis is rejected (the data does not follow a normal distribution).')\n"
   ]
  },
  {
   "cell_type": "markdown",
   "id": "60eb17fa",
   "metadata": {},
   "source": [
    "> I can then use the mean and fill in the missing values. This technique is called imputation."
   ]
  },
  {
   "cell_type": "markdown",
   "id": "e0f03696",
   "metadata": {},
   "source": [
    "### Imputation for Treatment of Missing Values"
   ]
  },
  {
   "cell_type": "markdown",
   "id": "c050e0f3",
   "metadata": {},
   "source": [
    "Treating the Salario variable"
   ]
  },
  {
   "cell_type": "code",
   "execution_count": 30,
   "id": "21a7845a",
   "metadata": {},
   "outputs": [],
   "source": [
    "# Calculating the mean of the variable \"Salario\" (ignoring missing values)\n",
    "mean_salary = df['Salario'].mean()"
   ]
  },
  {
   "cell_type": "code",
   "execution_count": 31,
   "id": "111bedda",
   "metadata": {},
   "outputs": [],
   "source": [
    "#Filling missing values with the mean\n",
    "df['Salario'].fillna(mean_salary, inplace=True)"
   ]
  },
  {
   "cell_type": "code",
   "execution_count": 32,
   "id": "369cff8f",
   "metadata": {},
   "outputs": [
    {
     "data": {
      "text/plain": [
       "Idade                        0\n",
       "Salario                      0\n",
       "Genero                       0\n",
       "Escolaridade                 0\n",
       "Score_Exame_Psicotecnico    30\n",
       "dtype: int64"
      ]
     },
     "execution_count": 32,
     "metadata": {},
     "output_type": "execute_result"
    }
   ],
   "source": [
    "#Checking\n",
    "df.isna().sum()"
   ]
  },
  {
   "cell_type": "markdown",
   "id": "78e3d438",
   "metadata": {},
   "source": [
    "The Score variable"
   ]
  },
  {
   "cell_type": "code",
   "execution_count": 33,
   "id": "e3815b95",
   "metadata": {},
   "outputs": [
    {
     "name": "stdout",
     "output_type": "stream",
     "text": [
      "Test statistic: nan\n",
      "p-value: 1.0\n",
      "There is no evidence to reject the null hypothesis (the data appear to follow a normal distribution).\n"
     ]
    }
   ],
   "source": [
    "#Extracting Score column in a series\n",
    "score_exam = df['Score_Exame_Psicotecnico']\n",
    "\n",
    "#Shapiro-wilk test\n",
    "stat, p_value = stats.shapiro(score_exam)\n",
    "\n",
    "#Printing the test result\n",
    "print(f'Test statistic: {stat}')\n",
    "print(f'p-value: {p_value}')\n",
    "\n",
    "#Checking the null hypothesis with p-value\n",
    "alfa = 0.05 #Significance level\n",
    "if p_value > alfa:\n",
    "    print('There is no evidence to reject the null hypothesis (the data appear to follow a normal distribution).')\n",
    "else:\n",
    "    print('The null hypothesis is rejected (the data does not follow a normal distribution).')\n"
   ]
  },
  {
   "cell_type": "markdown",
   "id": "13454289",
   "metadata": {},
   "source": [
    "> I can then use the mean and fill in the missing values. This technique is called imputation."
   ]
  },
  {
   "cell_type": "code",
   "execution_count": 34,
   "id": "1b14f677",
   "metadata": {},
   "outputs": [],
   "source": [
    "# Calculating the mean of the variable \"Score\" (ignoring missing values)\n",
    "mean_score = df['Score_Exame_Psicotecnico'].mean()"
   ]
  },
  {
   "cell_type": "code",
   "execution_count": 35,
   "id": "ae970549",
   "metadata": {},
   "outputs": [],
   "source": [
    "#Filling missing values with the mean\n",
    "df['Score_Exame_Psicotecnico'].fillna(mean_score, inplace=True)"
   ]
  },
  {
   "cell_type": "code",
   "execution_count": 36,
   "id": "18420ec5",
   "metadata": {},
   "outputs": [
    {
     "data": {
      "text/plain": [
       "Idade                       0\n",
       "Salario                     0\n",
       "Genero                      0\n",
       "Escolaridade                0\n",
       "Score_Exame_Psicotecnico    0\n",
       "dtype: int64"
      ]
     },
     "execution_count": 36,
     "metadata": {},
     "output_type": "execute_result"
    }
   ],
   "source": [
    "df.isna().sum()"
   ]
  },
  {
   "cell_type": "markdown",
   "id": "6f5a925b",
   "metadata": {},
   "source": [
    "> I saw that there is a correlation between Age and Salary. But if I change the Age variable to Age_Range, is this relationship confirmed?"
   ]
  },
  {
   "cell_type": "markdown",
   "id": "13dcbb35",
   "metadata": {},
   "source": [
    "### Statistical Test of Relationship Between Quantitative and Qualitative Variables"
   ]
  },
  {
   "cell_type": "code",
   "execution_count": 37,
   "id": "417e7c81",
   "metadata": {},
   "outputs": [],
   "source": [
    "#Defining stationary ranges in ascending order:\n",
    "age_ranges = [0, 25, 35, 45, 55, float('inf')]"
   ]
  },
  {
   "cell_type": "code",
   "execution_count": 38,
   "id": "e89ceb7b",
   "metadata": {},
   "outputs": [],
   "source": [
    "#Defining labels for age groups:\n",
    "labels_age = ['Under 25', '25-34', '35-44', '45-54', '55 ou mais']"
   ]
  },
  {
   "cell_type": "code",
   "execution_count": 39,
   "id": "2acfabff",
   "metadata": {},
   "outputs": [],
   "source": [
    "#Using the cut function to create the age_range variable:\n",
    "df['faixa_etaria'] = pd.cut(df['Idade'], bins=age_ranges, labels=labels_age)"
   ]
  },
  {
   "cell_type": "code",
   "execution_count": 40,
   "id": "d2eb2d3f",
   "metadata": {},
   "outputs": [
    {
     "data": {
      "text/html": [
       "<div>\n",
       "<style scoped>\n",
       "    .dataframe tbody tr th:only-of-type {\n",
       "        vertical-align: middle;\n",
       "    }\n",
       "\n",
       "    .dataframe tbody tr th {\n",
       "        vertical-align: top;\n",
       "    }\n",
       "\n",
       "    .dataframe thead th {\n",
       "        text-align: right;\n",
       "    }\n",
       "</style>\n",
       "<table border=\"1\" class=\"dataframe\">\n",
       "  <thead>\n",
       "    <tr style=\"text-align: right;\">\n",
       "      <th></th>\n",
       "      <th>Idade</th>\n",
       "      <th>Salario</th>\n",
       "      <th>Genero</th>\n",
       "      <th>Escolaridade</th>\n",
       "      <th>Score_Exame_Psicotecnico</th>\n",
       "      <th>faixa_etaria</th>\n",
       "    </tr>\n",
       "  </thead>\n",
       "  <tbody>\n",
       "    <tr>\n",
       "      <th>0</th>\n",
       "      <td>58</td>\n",
       "      <td>30404.959339</td>\n",
       "      <td>Masculino</td>\n",
       "      <td>Médio</td>\n",
       "      <td>56.000000</td>\n",
       "      <td>55 ou mais</td>\n",
       "    </tr>\n",
       "    <tr>\n",
       "      <th>1</th>\n",
       "      <td>48</td>\n",
       "      <td>20886.502401</td>\n",
       "      <td>Feminino</td>\n",
       "      <td>Médio</td>\n",
       "      <td>61.565957</td>\n",
       "      <td>45-54</td>\n",
       "    </tr>\n",
       "    <tr>\n",
       "      <th>2</th>\n",
       "      <td>34</td>\n",
       "      <td>15959.388748</td>\n",
       "      <td>Masculino</td>\n",
       "      <td>Médio</td>\n",
       "      <td>57.000000</td>\n",
       "      <td>25-34</td>\n",
       "    </tr>\n",
       "    <tr>\n",
       "      <th>3</th>\n",
       "      <td>62</td>\n",
       "      <td>28534.995327</td>\n",
       "      <td>Outro</td>\n",
       "      <td>Superior</td>\n",
       "      <td>68.000000</td>\n",
       "      <td>55 ou mais</td>\n",
       "    </tr>\n",
       "    <tr>\n",
       "      <th>4</th>\n",
       "      <td>27</td>\n",
       "      <td>10553.176215</td>\n",
       "      <td>Outro</td>\n",
       "      <td>Fundamental</td>\n",
       "      <td>44.000000</td>\n",
       "      <td>25-34</td>\n",
       "    </tr>\n",
       "  </tbody>\n",
       "</table>\n",
       "</div>"
      ],
      "text/plain": [
       "   Idade       Salario     Genero Escolaridade  Score_Exame_Psicotecnico  \\\n",
       "0     58  30404.959339  Masculino        Médio                 56.000000   \n",
       "1     48  20886.502401   Feminino        Médio                 61.565957   \n",
       "2     34  15959.388748  Masculino        Médio                 57.000000   \n",
       "3     62  28534.995327      Outro     Superior                 68.000000   \n",
       "4     27  10553.176215      Outro  Fundamental                 44.000000   \n",
       "\n",
       "  faixa_etaria  \n",
       "0   55 ou mais  \n",
       "1        45-54  \n",
       "2        25-34  \n",
       "3   55 ou mais  \n",
       "4        25-34  "
      ]
     },
     "execution_count": 40,
     "metadata": {},
     "output_type": "execute_result"
    }
   ],
   "source": [
    "df.head()"
   ]
  },
  {
   "cell_type": "code",
   "execution_count": 41,
   "id": "2276ec24",
   "metadata": {},
   "outputs": [],
   "source": [
    "# Using the drop() method to remove the \"Idade\" variable\n",
    "df.drop(columns='Idade', axis=1, inplace=True)"
   ]
  },
  {
   "cell_type": "code",
   "execution_count": 42,
   "id": "ab2dc693",
   "metadata": {},
   "outputs": [],
   "source": [
    "# Rounding the columns \"Salario\" and \"Score_Exame_Psicotecnico\" to integers\n",
    "df['Salario'] = df['Salario'].round().astype(int)\n",
    "df['Score_Exame_Psicotecnico'] = df['Score_Exame_Psicotecnico'].round().astype(int)"
   ]
  },
  {
   "cell_type": "code",
   "execution_count": 43,
   "id": "ef457813",
   "metadata": {},
   "outputs": [
    {
     "data": {
      "text/html": [
       "<div>\n",
       "<style scoped>\n",
       "    .dataframe tbody tr th:only-of-type {\n",
       "        vertical-align: middle;\n",
       "    }\n",
       "\n",
       "    .dataframe tbody tr th {\n",
       "        vertical-align: top;\n",
       "    }\n",
       "\n",
       "    .dataframe thead th {\n",
       "        text-align: right;\n",
       "    }\n",
       "</style>\n",
       "<table border=\"1\" class=\"dataframe\">\n",
       "  <thead>\n",
       "    <tr style=\"text-align: right;\">\n",
       "      <th></th>\n",
       "      <th>Salario</th>\n",
       "      <th>Genero</th>\n",
       "      <th>Escolaridade</th>\n",
       "      <th>Score_Exame_Psicotecnico</th>\n",
       "      <th>faixa_etaria</th>\n",
       "    </tr>\n",
       "  </thead>\n",
       "  <tbody>\n",
       "    <tr>\n",
       "      <th>0</th>\n",
       "      <td>30405</td>\n",
       "      <td>Masculino</td>\n",
       "      <td>Médio</td>\n",
       "      <td>56</td>\n",
       "      <td>55 ou mais</td>\n",
       "    </tr>\n",
       "    <tr>\n",
       "      <th>1</th>\n",
       "      <td>20887</td>\n",
       "      <td>Feminino</td>\n",
       "      <td>Médio</td>\n",
       "      <td>62</td>\n",
       "      <td>45-54</td>\n",
       "    </tr>\n",
       "    <tr>\n",
       "      <th>2</th>\n",
       "      <td>15959</td>\n",
       "      <td>Masculino</td>\n",
       "      <td>Médio</td>\n",
       "      <td>57</td>\n",
       "      <td>25-34</td>\n",
       "    </tr>\n",
       "    <tr>\n",
       "      <th>3</th>\n",
       "      <td>28535</td>\n",
       "      <td>Outro</td>\n",
       "      <td>Superior</td>\n",
       "      <td>68</td>\n",
       "      <td>55 ou mais</td>\n",
       "    </tr>\n",
       "    <tr>\n",
       "      <th>4</th>\n",
       "      <td>10553</td>\n",
       "      <td>Outro</td>\n",
       "      <td>Fundamental</td>\n",
       "      <td>44</td>\n",
       "      <td>25-34</td>\n",
       "    </tr>\n",
       "  </tbody>\n",
       "</table>\n",
       "</div>"
      ],
      "text/plain": [
       "   Salario     Genero Escolaridade  Score_Exame_Psicotecnico faixa_etaria\n",
       "0    30405  Masculino        Médio                        56   55 ou mais\n",
       "1    20887   Feminino        Médio                        62        45-54\n",
       "2    15959  Masculino        Médio                        57        25-34\n",
       "3    28535      Outro     Superior                        68   55 ou mais\n",
       "4    10553      Outro  Fundamental                        44        25-34"
      ]
     },
     "execution_count": 43,
     "metadata": {},
     "output_type": "execute_result"
    }
   ],
   "source": [
    "df.head()"
   ]
  },
  {
   "cell_type": "code",
   "execution_count": 44,
   "id": "fb64160f",
   "metadata": {},
   "outputs": [
    {
     "data": {
      "text/plain": [
       "faixa_etaria\n",
       "Under 25      13108.633803\n",
       "25-34         14945.184783\n",
       "35-44         20980.654545\n",
       "45-54         24736.491935\n",
       "55 ou mais    29364.359223\n",
       "Name: Salario, dtype: float64"
      ]
     },
     "execution_count": 44,
     "metadata": {},
     "output_type": "execute_result"
    }
   ],
   "source": [
    "# Average salary by age group\n",
    "mean_salary = df.groupby('faixa_etaria')['Salario'].mean()\n",
    "mean_salary"
   ]
  },
  {
   "cell_type": "code",
   "execution_count": 45,
   "id": "028b2b68",
   "metadata": {},
   "outputs": [
    {
     "data": {
      "text/plain": [
       "faixa_etaria\n",
       "Under 25      12433.0\n",
       "25-34         15387.5\n",
       "35-44         21411.0\n",
       "45-54         24283.0\n",
       "55 ou mais    29345.0\n",
       "Name: Salario, dtype: float64"
      ]
     },
     "execution_count": 45,
     "metadata": {},
     "output_type": "execute_result"
    }
   ],
   "source": [
    "# Median salary by age group\n",
    "median_salary = df.groupby('faixa_etaria')['Salario'].median()\n",
    "median_salary"
   ]
  },
  {
   "cell_type": "code",
   "execution_count": 46,
   "id": "8fa919fd",
   "metadata": {},
   "outputs": [
    {
     "data": {
      "image/png": "[encoded data removed]",
      "text/plain": [
       "<Figure size 640x480 with 1 Axes>"
      ]
     },
     "metadata": {},
     "output_type": "display_data"
    }
   ],
   "source": [
    "#Boxplots\n",
    "sns.boxplot(x = 'faixa_etaria', y = 'Salario', data = df)\n",
    "plt.xticks(rotation = 45)\n",
    "plt.show()"
   ]
  },
  {
   "cell_type": "code",
   "execution_count": 47,
   "id": "8182621a",
   "metadata": {},
   "outputs": [
    {
     "name": "stdout",
     "output_type": "stream",
     "text": [
      "There is evidence of significant differences in average wages between age groups\n"
     ]
    }
   ],
   "source": [
    "#ANOVA test\n",
    "result_anova = stats.f_oneway(*[grupo['Salario'] for nome, grupo in df.groupby('faixa_etaria')])\n",
    "\n",
    "#Checking the test result\n",
    "if result_anova.pvalue < 0.05:\n",
    "    print('There is evidence of significant differences in average wages between age groups')\n",
    "else:\n",
    "    print('There is no evidence of significant differences in average wages between age groups')"
   ]
  },
  {
   "cell_type": "markdown",
   "id": "f3853122",
   "metadata": {},
   "source": [
    "> Yes, the relationship really exists between Idade and Salario."
   ]
  },
  {
   "cell_type": "markdown",
   "id": "096a06f9",
   "metadata": {},
   "source": [
    "### Final Report"
   ]
  },
  {
   "cell_type": "markdown",
   "id": "ce5b0ebb",
   "metadata": {},
   "source": [
    "Based on the analysis, it is possible to observe that:\n",
    "\n",
    "- The Salary variable presented negative values. Since I do not have more details about this, I decided to convert it from a negative value to a missing value.\n",
    "- The Salary and Score_Exame_Psicotecnico variables presented missing values problems.\n",
    "- I treated the missing values by imputing the mean, since both variables follow a normal distribution.\n",
    "- I identified that there is no relationship between the gender and education variables, that is, they are independent.\n",
    "- I verified that there is a relationship between age and salary, regardless of the individual value of age or age group.\n",
    "- The conclusions and decisions were based on statistical tests."
   ]
  },
  {
   "cell_type": "code",
   "execution_count": null,
   "id": "e73fd320",
   "metadata": {},
   "outputs": [],
   "source": []
  }
 ],
 "metadata": {
  "kernelspec": {
   "display_name": "Python 3 (ipykernel)",
   "language": "python",
   "name": "python3"
  },
  "language_info": {
   "codemirror_mode": {
    "name": "ipython",
    "version": 3
   },
   "file_extension": ".py",
   "mimetype": "text/x-python",
   "name": "python",
   "nbconvert_exporter": "python",
   "pygments_lexer": "ipython3",
   "version": "3.11.2"
  }
 },
 "nbformat": 4,
 "nbformat_minor": 5
}
